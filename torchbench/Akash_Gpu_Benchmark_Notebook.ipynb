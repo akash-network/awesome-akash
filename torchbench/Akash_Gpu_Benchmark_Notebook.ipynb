{
 "cells": [
  {
   "cell_type": "markdown",
   "id": "ff743ff7",
   "metadata": {},
   "source": [
    "# Akash Testnet GPU Benchmark Form"
   ]
  },
  {
   "cell_type": "markdown",
   "id": "6ba97cfc",
   "metadata": {},
   "source": [
    "### Intructions:\n",
    "Please update the form below with your information by double clicking this cell and then run the following cell to receive Benchmark Incentives Awards. Cells in Jupyter Notebooks are run by either clicking the play button or pressing Shift+Enter.\n",
    "\n",
    "After the benchmarks have finished running on the gpu testnet (<10min), please export this notebook as pdf by going to File >> Download As >> pdf via Latex (.pdf).  Download the pdf and then upload the file to the wp-gpu channel in the [Akash Discord](https://discord.gg/hH5h9xWp) to submit.  Any questions or feedback will be addressed in that channel.\n",
    "\n",
    "* First and Last Name : _________________________________________________\n",
    "* Discord Handle : ______________________________________________________\n",
    "* Email Address : _______________________________________________________\n",
    "* Akash Wallet Address: _________________________________________________"
   ]
  },
  {
   "cell_type": "code",
   "execution_count": null,
   "id": "767a0538",
   "metadata": {},
   "outputs": [],
   "source": [
    "!./run.sh"
   ]
  }
 ],
 "metadata": {
  "kernelspec": {
   "display_name": "Python 3 (ipykernel)",
   "language": "python",
   "name": "python3"
  },
  "language_info": {
   "codemirror_mode": {
    "name": "ipython",
    "version": 3
   },
   "file_extension": ".py",
   "mimetype": "text/x-python",
   "name": "python",
   "nbconvert_exporter": "python",
   "pygments_lexer": "ipython3",
   "version": "3.11.3"
  }
 },
 "nbformat": 4,
 "nbformat_minor": 5
}

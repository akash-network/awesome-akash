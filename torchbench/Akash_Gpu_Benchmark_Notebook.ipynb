{
 "cells": [
  {
   "attachments": {},
   "cell_type": "markdown",
   "id": "ff743ff7",
   "metadata": {},
   "source": [
    "# Akash Testnet GPU Benchmark Form"
   ]
  },
  {
   "attachments": {},
   "cell_type": "markdown",
   "id": "6ba97cfc",
   "metadata": {},
   "source": [
    "### Instructions:\n",
    "Please update the form below with your information by double clicking this cell and then run the following cell to receive Benchmark Incentives Awards. Please run all of the cells in the Notebook by pressing the >> button.  Individual cells in Jupyter Notebooks are run by either clicking the play button or pressing Shift+Enter. Before Starting please make sure that your nvidia-cuda version matches or is compatible with the cuda on the provider node by running the first cell.  The SDL container tag should reference a compatible cuda version for the docker image. \n",
    "\n",
    "After the benchmarks have finished running on the gpu testnet (<10min), please export this notebook as pdf by going to File >> Save and Export As >> PDF. If the PDF cannot be exported that way then export by going to file -> print -> print to pdf.  Download the pdf and then upload the file to the wp-gpu channel in the [Akash Discord](https://discord.gg/hH5h9xWp) to submit.  Any questions or feedback will be addressed in that channel.\n",
    "\n",
    "* First and Last Name : _________________________________________________\n",
    "* Discord Handle : ______________________________________________________\n",
    "* Email Address : _______________________________________________________\n",
    "* Akash Wallet Address: _________________________________________________"
   ]
  },
  {
   "cell_type": "code",
   "execution_count": null,
   "id": "7b4572f8",
   "metadata": {},
   "outputs": [],
   "source": [
    "!nvidia-smi"
   ]
  },
  {
   "cell_type": "code",
   "execution_count": null,
   "id": "767a0538",
   "metadata": {},
   "outputs": [],
   "source": [
    "!./run.sh"
   ]
  },
  {
   "cell_type": "code",
   "execution_count": null,
   "id": "d8afdfd5",
   "metadata": {},
   "outputs": [],
   "source": [
    "import pandas as pd \n",
    "import json\n",
    "data = json.load(open('/app/benchmark_results.json'))\n",
    "df = pd.DataFrame(data[\"benchmarks\"])\n",
    "df"
   ]
  },
  {
   "cell_type": "code",
   "execution_count": null,
   "id": "ce715ffc",
   "metadata": {},
   "outputs": [],
   "source": [
    "parsed = df.groupby('param').stats.apply(lambda x: pd.DataFrame(x.values[0])).reset_index()\n",
    "parsed = parsed.drop(columns=[\"data\", \"level_1\"]).drop_duplicates()\n",
    "parsed"
   ]
  },
  {
   "cell_type": "code",
   "execution_count": null,
   "id": "07a1ff6b",
   "metadata": {},
   "outputs": [],
   "source": [
    "import numpy as np\n",
    "import seaborn as sns\n",
    "import matplotlib.pyplot as plt\n",
    "sns.set_theme(style=\"white\", context=\"talk\")\n",
    "%matplotlib inline"
   ]
  },
  {
   "cell_type": "code",
   "execution_count": null,
   "id": "1a0e588c",
   "metadata": {},
   "outputs": [],
   "source": [
    "import seaborn as sns\n",
    "import matplotlib.pyplot as plt\n",
    "sns.set_theme(style=\"whitegrid\")\n",
    "\n",
    "# Initialize the matplotlib figure\n",
    "f, ax = plt.subplots(figsize=(6, 6))\n",
    "\n",
    "sns.set_color_codes(\"pastel\")\n",
    "sns.barplot(y=\"param\", x=\"ops\", data=parsed,\n",
    "            label=\"Ops\", color=\"b\")\n",
    "\n",
    "# Plot the ops for benchmarks\n",
    "\n",
    "# Add a legend and informative axis label\n",
    "ax.legend(ncol=1, loc=\"lower right\", frameon=True)\n",
    "ax.set(\n",
    "    # xlim=(0, 24),\n",
    "       ylabel=\"models\",\n",
    "       xlabel=\"Benchmark Ops\")\n",
    "sns.despine(left=True, bottom=True)"
   ]
  },
  {
   "cell_type": "code",
   "execution_count": null,
   "id": "ed5e9831",
   "metadata": {},
   "outputs": [],
   "source": [
    "# Initialize the matplotlib figure\n",
    "f, ax = plt.subplots(figsize=(6, 6))\n",
    "\n",
    "# Plot benchmarks\n",
    "sns.set_color_codes(\"pastel\")\n",
    "sns.barplot(y=\"param\", x=\"mean\", data=parsed,\n",
    "            label=\"Latency(s)\", color=\"b\")\n",
    "\n",
    "# Add a legend and informative axis label\n",
    "ax.legend(ncol=1, loc=\"lower right\", frameon=True)\n",
    "ax.set(\n",
    "    # xlim=(0, 24),\n",
    "       ylabel=\"models\",\n",
    "       xlabel=\"Benchmark Mean Latency\")\n",
    "sns.despine(left=True, bottom=True)"
   ]
  }
 ],
 "metadata": {
  "kernelspec": {
   "display_name": "Python 3 (ipykernel)",
   "language": "python",
   "name": "python3"
  },
  "language_info": {
   "codemirror_mode": {
    "name": "ipython",
    "version": 3
   },
   "file_extension": ".py",
   "mimetype": "text/x-python",
   "name": "python",
   "nbconvert_exporter": "python",
   "pygments_lexer": "ipython3",
   "version": "3.11.3"
  }
 },
 "nbformat": 4,
 "nbformat_minor": 5
}
